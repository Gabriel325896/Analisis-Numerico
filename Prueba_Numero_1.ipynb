{
  "nbformat": 4,
  "nbformat_minor": 0,
  "metadata": {
    "colab": {
      "name": "Prueba Numero 1.ipynb",
      "provenance": [],
      "toc_visible": true,
      "mount_file_id": "16UmxXTsBzjMkMRZmEj9wYA1nmYJcj8CL",
      "authorship_tag": "ABX9TyM8Bm48XAj5DUPl6Q+RoCeL",
      "include_colab_link": true
    },
    "kernelspec": {
      "name": "python3",
      "display_name": "Python 3"
    },
    "language_info": {
      "name": "python"
    }
  },
  "cells": [
    {
      "cell_type": "markdown",
      "metadata": {
        "id": "view-in-github",
        "colab_type": "text"
      },
      "source": [
        "<a href=\"https://colab.research.google.com/github/Gabriel325896/Analisis-Numerico/blob/main/Prueba_Numero_1.ipynb\" target=\"_parent\"><img src=\"https://colab.research.google.com/assets/colab-badge.svg\" alt=\"Open In Colab\"/></a>"
      ]
    },
    {
      "cell_type": "markdown",
      "metadata": {
        "id": "ojbldkOEqoxf"
      },
      "source": [
        ""
      ]
    },
    {
      "cell_type": "markdown",
      "metadata": {
        "id": "Xiz_htwrqpo2"
      },
      "source": [
        "# Sección 1"
      ]
    },
    {
      "cell_type": "code",
      "metadata": {
        "colab": {
          "base_uri": "https://localhost:8080/"
        },
        "id": "Po-JuF40IPea",
        "outputId": "84a3346f-5f4e-4cc6-d93a-c7db03ed4a8a"
      },
      "source": [
        "\n",
        "print(\"Hola Mundo\")"
      ],
      "execution_count": 1,
      "outputs": [
        {
          "output_type": "stream",
          "name": "stdout",
          "text": [
            "Hola Mundo\n"
          ]
        }
      ]
    },
    {
      "cell_type": "markdown",
      "metadata": {
        "id": "UmL5w9RYq6yD"
      },
      "source": [
        "#Sección 2"
      ]
    },
    {
      "cell_type": "markdown",
      "metadata": {
        "id": "vqCjEZQQq_be"
      },
      "source": [
        "Hola Mundox2"
      ]
    },
    {
      "cell_type": "code",
      "metadata": {
        "id": "wxi74iRmrB3v"
      },
      "source": [
        "a=1\n",
        "b=2\n",
        "c=a+b\n",
        "print(c)"
      ],
      "execution_count": null,
      "outputs": []
    },
    {
      "cell_type": "markdown",
      "metadata": {
        "id": "CUjk-QNWryhf"
      },
      "source": [
        "\n",
        "\n",
        "---\n",
        "\n"
      ]
    },
    {
      "cell_type": "code",
      "metadata": {
        "id": "m_JHVca-ryB-"
      },
      "source": [
        ""
      ],
      "execution_count": null,
      "outputs": []
    }
  ]
}